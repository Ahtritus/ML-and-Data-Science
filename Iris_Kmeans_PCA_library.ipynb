{
 "cells": [
  {
   "cell_type": "code",
   "execution_count": null,
   "metadata": {},
   "outputs": [],
   "source": [
    "import numpy as np \n",
    "import pandas as pd\n",
    "import matplotlib.pyplot as plt\n",
    "import matplotlib as mpl\n",
    "import itertools\n",
    "from sklearn import preprocessing\n",
    "from sklearn import decomposition\n",
    "from sklearn.cluster import KMeans\n",
    "import seaborn as sns\n",
    "sns.set(style=\"white\", color_codes=True)"
   ]
  },
  {
   "cell_type": "code",
   "execution_count": null,
   "metadata": {},
   "outputs": [],
   "source": [
    "data = pd.read_csv(\"Iris.csv\")\n",
    "data.head()\n"
   ]
  },
  {
   "cell_type": "code",
   "execution_count": null,
   "metadata": {},
   "outputs": [],
   "source": [
    "species_list = list(data[\"Species\"].unique())\n",
    "#print(len(species_list))\n",
    "X1=data.loc[data[\"Species\"] == species_list[0]]\n",
    "X2=data.loc[data[\"Species\"] == species_list[1]]\n",
    "X3=data.loc[data[\"Species\"] == species_list[2]]\n"
   ]
  },
  {
   "cell_type": "code",
   "execution_count": null,
   "metadata": {},
   "outputs": [],
   "source": [
    "\n",
    "Y11=X1[[\"SepalLengthCm\",\"SepalWidthCm\"]]\n",
    "#print(Y1)\n",
    "Y21=X2[[\"SepalLengthCm\",\"SepalWidthCm\"]]\n",
    "#print(Y2)\n",
    "Y31=X3[[\"SepalLengthCm\",\"SepalWidthCm\"]]\n",
    "#print(Y3)\n",
    "\n",
    "figsize=(20,10)\n",
    "plt.scatter(Y11[\"SepalLengthCm\"],Y11[\"SepalWidthCm\"],s=50)\n",
    "plt.scatter(Y21[\"SepalLengthCm\"],Y21[\"SepalWidthCm\"],s=50)\n",
    "plt.scatter(Y31[\"SepalLengthCm\"],Y31[\"SepalWidthCm\"],s=50)\n",
    "\n",
    "plt.legend(species_list)\n",
    "plt.xlabel('Sepa1 Length')\n",
    "plt.ylabel('Sepal Width')"
   ]
  },
  {
   "cell_type": "code",
   "execution_count": null,
   "metadata": {},
   "outputs": [],
   "source": [
    "Y12=X1[[\"PetalLengthCm\",\"PetalWidthCm\"]]\n",
    "#print(Y1)\n",
    "Y22=X2[[\"PetalLengthCm\",\"PetalWidthCm\"]]\n",
    "#print(Y2)\n",
    "Y32=X3[[\"PetalLengthCm\",\"PetalWidthCm\"]]\n",
    "#print(Y3)\n",
    "\n",
    "figsize=(20,10)\n",
    "plt.scatter(Y12[\"PetalLengthCm\"],Y12[\"PetalWidthCm\"],s=50)\n",
    "plt.scatter(Y22[\"PetalLengthCm\"],Y22[\"PetalWidthCm\"],s=50)\n",
    "plt.scatter(Y32[\"PetalLengthCm\"],Y32[\"PetalWidthCm\"],s=50)\n",
    "\n",
    "plt.legend(species_list)\n",
    "plt.xlabel('Petal Length')\n",
    "plt.ylabel('Petal Width')"
   ]
  },
  {
   "cell_type": "code",
   "execution_count": null,
   "metadata": {},
   "outputs": [],
   "source": [
    "########### PCA ############\n",
    "\n",
    "# split data into features (X) and labels (y)\n",
    "X = data.iloc[:,1:5]\n",
    "y = data.iloc[:,-1]\n",
    "print(X.head())\n",
    "print(y.head())"
   ]
  },
  {
   "cell_type": "code",
   "execution_count": null,
   "metadata": {},
   "outputs": [],
   "source": [
    "#Feature Scaling\n",
    "\n",
    "scaler = preprocessing.StandardScaler()\n",
    "\n",
    "scaler.fit(X)\n",
    "X_scaled_array = scaler.transform(X)\n",
    "X_scaled = pd.DataFrame(X_scaled_array, columns = X.columns)\n",
    "X_scaled.head()\n"
   ]
  },
  {
   "cell_type": "code",
   "execution_count": null,
   "metadata": {},
   "outputs": [],
   "source": [
    "#PCA\n",
    "\n",
    "pca = decomposition.PCA(n_components = 2)\n",
    "pca.fit(X_scaled)\n",
    "X_pca_array = pca.transform(X_scaled)"
   ]
  },
  {
   "cell_type": "code",
   "execution_count": null,
   "metadata": {},
   "outputs": [],
   "source": [
    "dfpc = pd.DataFrame(X_pca_array, columns=['PC1', 'PC2'])\n",
    "dfpc['class'] = yplt.figure(1, figsize=(10,10), dpi=100)\n",
    "plt.clf()\n",
    "sns.lmplot(data=dfpc, x=\"PC1\", y=\"PC2\", fit_reg=False, hue='class')\n",
    "plt.show()\n",
    "dfpc.head()"
   ]
  },
  {
   "cell_type": "code",
   "execution_count": null,
   "metadata": {},
   "outputs": [],
   "source": [
    "plt.figure(1, figsize=(10,10), dpi=100)\n",
    "plt.clf()\n",
    "sns.lmplot(data=dfpc, x=\"PC1\", y=\"PC2\", fit_reg=False, hue='class')\n",
    "plt.show()"
   ]
  },
  {
   "cell_type": "code",
   "execution_count": null,
   "metadata": {},
   "outputs": [],
   "source": [
    "################## K Means ###################\n",
    "\n",
    "#finding optimal k with elbow method.\n",
    "def elbow(a):\n",
    "    Error =[]\n",
    "\n",
    "\n",
    "    for i in range(1, 11):\n",
    "        kmeans = KMeans(n_clusters = i).fit(a)\n",
    "        Error.append(kmeans.inertia_)\n",
    "\n",
    "    print(Error)\n",
    "    plt.plot(range(1, 11), Error)\n",
    "    plt.title('Elbow method')\n",
    "    plt.xlabel('No of clusters')\n",
    "    plt.ylabel('Error')\n",
    "    plt.show()"
   ]
  },
  {
   "cell_type": "code",
   "execution_count": null,
   "metadata": {},
   "outputs": [],
   "source": [
    "elbow(X_pca_array)"
   ]
  },
  {
   "cell_type": "code",
   "execution_count": null,
   "metadata": {},
   "outputs": [],
   "source": [
    "# K = 5 \n",
    "# K = 3\n",
    "# elbow says k=5 but there are 3 classifications of data originally species wise.\n",
    "# sp, taking K = 3\n",
    "\n",
    "kmeans = KMeans(n_clusters = 3, init = 'k-means++', max_iter = 300, n_init = 10, random_state = 100)\n",
    "y_kmeans = kmeans.fit_predict(X_pca_array)\n",
    "print(y_kmeans)\n",
    "kmeans.cluster_centers_"
   ]
  },
  {
   "cell_type": "code",
   "execution_count": null,
   "metadata": {},
   "outputs": [],
   "source": [
    "dfpc['clusterKMeans'] = y_kmeans"
   ]
  },
  {
   "cell_type": "code",
   "execution_count": null,
   "metadata": {},
   "outputs": [],
   "source": [
    "dfpc.loc[21]"
   ]
  },
  {
   "cell_type": "code",
   "execution_count": null,
   "metadata": {},
   "outputs": [],
   "source": [
    "plt.ylabel('Count')\n",
    "plt.title('Histogram of Cluster Counts of K-means')\n",
    "sns.countplot(y_kmeans)\n",
    "plt.show()"
   ]
  },
  {
   "cell_type": "code",
   "execution_count": null,
   "metadata": {},
   "outputs": [],
   "source": [
    "data['X'] = X_pca_array[:,[0]]\n",
    "data['Y'] = X_pca_array[:,[1]]\n",
    "data['cluster'] = y_kmeans"
   ]
  },
  {
   "cell_type": "code",
   "execution_count": null,
   "metadata": {},
   "outputs": [],
   "source": [
    "plt.figure(1, figsize=(5,5), dpi=100)\n",
    "plt.xlabel('PC1')\n",
    "plt.ylabel('PC2')\n",
    "sns.scatterplot(x='X', y='Y', hue='cluster', legend=\"full\", palette=\"Set1\", data=data)\n",
    "plt.show()"
   ]
  }
 ],
 "metadata": {
  "kernelspec": {
   "display_name": "Python 3",
   "language": "python",
   "name": "python3"
  },
  "language_info": {
   "codemirror_mode": {
    "name": "ipython",
    "version": 3
   },
   "file_extension": ".py",
   "mimetype": "text/x-python",
   "name": "python",
   "nbconvert_exporter": "python",
   "pygments_lexer": "ipython3",
   "version": "3.7.6"
  }
 },
 "nbformat": 4,
 "nbformat_minor": 2
}
